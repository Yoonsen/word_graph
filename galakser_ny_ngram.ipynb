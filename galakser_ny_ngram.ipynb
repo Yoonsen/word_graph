{
 "cells": [
  {
   "cell_type": "markdown",
   "id": "f8bd73ad-d0c6-4f5d-a821-b88c3dc68bda",
   "metadata": {
    "tags": []
   },
   "source": [
    "# Galakser "
   ]
  },
  {
   "cell_type": "code",
   "execution_count": 145,
   "id": "9cc83af9-9e11-4a52-95f8-48a668554bc3",
   "metadata": {},
   "outputs": [
    {
     "data": {
      "text/html": [
       "<style>\n",
       "p {font-size:1.2em;\n",
       "  font-family: Georgia, serif};\n",
       "</style>\n"
      ],
      "text/plain": [
       "<IPython.core.display.HTML object>"
      ]
     },
     "metadata": {},
     "output_type": "display_data"
    }
   ],
   "source": [
    "%%HTML\n",
    "<style>\n",
    "p {font-size:1.2em;\n",
    "  font-family: Georgia, serif};\n",
    "</style>"
   ]
  },
  {
   "cell_type": "code",
   "execution_count": 74,
   "id": "f11768ce-d76f-4e1f-94f6-a09993f87065",
   "metadata": {},
   "outputs": [],
   "source": [
    "import pandas as pd"
   ]
  },
  {
   "cell_type": "code",
   "execution_count": 75,
   "id": "1ba5a644-e515-4de4-8a80-1d6ae5d223e2",
   "metadata": {},
   "outputs": [],
   "source": [
    "bøker = pd.read_csv(\"../../ngram_2021_coordination/coord-bok.csv\", header = None)"
   ]
  },
  {
   "cell_type": "code",
   "execution_count": 76,
   "id": "86f6e964-21d7-4332-adcd-41b48fa3a155",
   "metadata": {},
   "outputs": [],
   "source": [
    "bøker.columns = ['lang', 'first', 'coord', 'second', 'freq']"
   ]
  },
  {
   "cell_type": "code",
   "execution_count": 77,
   "id": "b2d2ee13-3068-42cf-ac08-386cc832bec9",
   "metadata": {},
   "outputs": [
    {
     "data": {
      "text/html": [
       "<div>\n",
       "<style scoped>\n",
       "    .dataframe tbody tr th:only-of-type {\n",
       "        vertical-align: middle;\n",
       "    }\n",
       "\n",
       "    .dataframe tbody tr th {\n",
       "        vertical-align: top;\n",
       "    }\n",
       "\n",
       "    .dataframe thead th {\n",
       "        text-align: right;\n",
       "    }\n",
       "</style>\n",
       "<table border=\"1\" class=\"dataframe\">\n",
       "  <thead>\n",
       "    <tr style=\"text-align: right;\">\n",
       "      <th></th>\n",
       "      <th>lang</th>\n",
       "      <th>first</th>\n",
       "      <th>coord</th>\n",
       "      <th>second</th>\n",
       "      <th>freq</th>\n",
       "    </tr>\n",
       "  </thead>\n",
       "  <tbody>\n",
       "    <tr>\n",
       "      <th>8927</th>\n",
       "      <td>nno</td>\n",
       "      <td>.</td>\n",
       "      <td>og</td>\n",
       "      <td>0,75</td>\n",
       "      <td>4</td>\n",
       "    </tr>\n",
       "    <tr>\n",
       "      <th>8928</th>\n",
       "      <td>nno</td>\n",
       "      <td>.</td>\n",
       "      <td>og</td>\n",
       "      <td>09.01.2010</td>\n",
       "      <td>4</td>\n",
       "    </tr>\n",
       "  </tbody>\n",
       "</table>\n",
       "</div>"
      ],
      "text/plain": [
       "     lang first coord      second  freq\n",
       "8927  nno     .    og        0,75     4\n",
       "8928  nno     .    og  09.01.2010     4"
      ]
     },
     "execution_count": 77,
     "metadata": {},
     "output_type": "execute_result"
    }
   ],
   "source": [
    "bøker[bøker['first'] == '.'].head(2)"
   ]
  },
  {
   "cell_type": "code",
   "execution_count": 121,
   "id": "ce953d80-98c1-45ad-8cd1-df10f2116c4c",
   "metadata": {},
   "outputs": [
    {
     "data": {
      "text/plain": [
       "True"
      ]
     },
     "execution_count": 121,
     "metadata": {},
     "output_type": "execute_result"
    }
   ],
   "source": [
    "\"a\".isalpha()"
   ]
  },
  {
   "cell_type": "code",
   "execution_count": 124,
   "id": "584d1f2f-8127-41fd-b181-89b4469e1367",
   "metadata": {},
   "outputs": [
    {
     "name": "stderr",
     "output_type": "stream",
     "text": [
      "/tmp/ipykernel_154307/342431437.py:1: UserWarning: Boolean Series key will be reindexed to match DataFrame index.\n",
      "  bøker_words = bøker[bøker['first'].map(lambda x: x.isalpha())][bøker['second'].map(lambda x: x.isalpha())]\n"
     ]
    }
   ],
   "source": [
    "bøker_words = bøker[bøker['first'].map(lambda x: x.isalpha())][bøker['second'].map(lambda x: x.isalpha())]"
   ]
  },
  {
   "cell_type": "code",
   "execution_count": 125,
   "id": "316d8091-3a84-4abe-a470-16a48db64b0b",
   "metadata": {},
   "outputs": [
    {
     "data": {
      "text/html": [
       "<div>\n",
       "<style scoped>\n",
       "    .dataframe tbody tr th:only-of-type {\n",
       "        vertical-align: middle;\n",
       "    }\n",
       "\n",
       "    .dataframe tbody tr th {\n",
       "        vertical-align: top;\n",
       "    }\n",
       "\n",
       "    .dataframe thead th {\n",
       "        text-align: right;\n",
       "    }\n",
       "</style>\n",
       "<table border=\"1\" class=\"dataframe\">\n",
       "  <thead>\n",
       "    <tr style=\"text-align: right;\">\n",
       "      <th></th>\n",
       "      <th>lang</th>\n",
       "      <th>first</th>\n",
       "      <th>coord</th>\n",
       "      <th>second</th>\n",
       "      <th>freq</th>\n",
       "    </tr>\n",
       "  </thead>\n",
       "  <tbody>\n",
       "    <tr>\n",
       "      <th>15380</th>\n",
       "      <td>nno</td>\n",
       "      <td>A</td>\n",
       "      <td>og</td>\n",
       "      <td>Fig</td>\n",
       "      <td>4</td>\n",
       "    </tr>\n",
       "    <tr>\n",
       "      <th>15381</th>\n",
       "      <td>nno</td>\n",
       "      <td>A</td>\n",
       "      <td>og</td>\n",
       "      <td>Marianna</td>\n",
       "      <td>4</td>\n",
       "    </tr>\n",
       "    <tr>\n",
       "      <th>15382</th>\n",
       "      <td>nno</td>\n",
       "      <td>A</td>\n",
       "      <td>og</td>\n",
       "      <td>VB</td>\n",
       "      <td>4</td>\n",
       "    </tr>\n",
       "    <tr>\n",
       "      <th>15383</th>\n",
       "      <td>nno</td>\n",
       "      <td>A</td>\n",
       "      <td>og</td>\n",
       "      <td>alt</td>\n",
       "      <td>4</td>\n",
       "    </tr>\n",
       "    <tr>\n",
       "      <th>15384</th>\n",
       "      <td>nno</td>\n",
       "      <td>A</td>\n",
       "      <td>og</td>\n",
       "      <td>anten</td>\n",
       "      <td>4</td>\n",
       "    </tr>\n",
       "    <tr>\n",
       "      <th>...</th>\n",
       "      <td>...</td>\n",
       "      <td>...</td>\n",
       "      <td>...</td>\n",
       "      <td>...</td>\n",
       "      <td>...</td>\n",
       "    </tr>\n",
       "    <tr>\n",
       "      <th>4752037</th>\n",
       "      <td>nob</td>\n",
       "      <td>mer</td>\n",
       "      <td>og</td>\n",
       "      <td>mer</td>\n",
       "      <td>593743</td>\n",
       "    </tr>\n",
       "    <tr>\n",
       "      <th>4752038</th>\n",
       "      <td>nob</td>\n",
       "      <td>rett</td>\n",
       "      <td>og</td>\n",
       "      <td>slett</td>\n",
       "      <td>597504</td>\n",
       "    </tr>\n",
       "    <tr>\n",
       "      <th>4752052</th>\n",
       "      <td>nob</td>\n",
       "      <td>av</td>\n",
       "      <td>og</td>\n",
       "      <td>til</td>\n",
       "      <td>984899</td>\n",
       "    </tr>\n",
       "    <tr>\n",
       "      <th>4752055</th>\n",
       "      <td>nob</td>\n",
       "      <td>først</td>\n",
       "      <td>og</td>\n",
       "      <td>fremst</td>\n",
       "      <td>1637971</td>\n",
       "    </tr>\n",
       "    <tr>\n",
       "      <th>4752056</th>\n",
       "      <td>nob</td>\n",
       "      <td>til</td>\n",
       "      <td>og</td>\n",
       "      <td>med</td>\n",
       "      <td>1664287</td>\n",
       "    </tr>\n",
       "  </tbody>\n",
       "</table>\n",
       "<p>4084866 rows × 5 columns</p>\n",
       "</div>"
      ],
      "text/plain": [
       "        lang  first coord    second     freq\n",
       "15380    nno      A    og       Fig        4\n",
       "15381    nno      A    og  Marianna        4\n",
       "15382    nno      A    og        VB        4\n",
       "15383    nno      A    og       alt        4\n",
       "15384    nno      A    og     anten        4\n",
       "...      ...    ...   ...       ...      ...\n",
       "4752037  nob    mer    og       mer   593743\n",
       "4752038  nob   rett    og     slett   597504\n",
       "4752052  nob     av    og       til   984899\n",
       "4752055  nob  først    og    fremst  1637971\n",
       "4752056  nob    til    og       med  1664287\n",
       "\n",
       "[4084866 rows x 5 columns]"
      ]
     },
     "execution_count": 125,
     "metadata": {},
     "output_type": "execute_result"
    }
   ],
   "source": [
    "bøker_words"
   ]
  },
  {
   "cell_type": "code",
   "execution_count": 134,
   "id": "b11f2698-8e58-4ea1-ab13-836889d3d621",
   "metadata": {},
   "outputs": [],
   "source": [
    "coord = bøker_words.groupby(['first', 'second']).sum()"
   ]
  },
  {
   "cell_type": "code",
   "execution_count": 80,
   "id": "6095a4ad-3fd7-4966-87e2-df3e4af15e7f",
   "metadata": {},
   "outputs": [],
   "source": [
    "from math import log"
   ]
  },
  {
   "cell_type": "code",
   "execution_count": 81,
   "id": "7d90c834-e36f-47ea-9eb8-09ebc6fa216b",
   "metadata": {},
   "outputs": [],
   "source": [
    "#coord['weight'] = coord['freq']*coord['pmi']"
   ]
  },
  {
   "cell_type": "markdown",
   "id": "78c1fb4b-570f-41af-bc1f-a1bf80cb8383",
   "metadata": {},
   "source": [
    "In a position \"$x\\textrm{ and }y$\" the part frequencies of $x$, $x_f$, are used in computing $\\frac{p(y|x)}{p(y)}$. All proportions are computed from that particular position. So the what is computed\n",
    "is\n",
    "\n",
    "1. $p(x) = \\frac{x_f}{\\sigma(x_f)}$ and\n",
    "1. $p(y|x) = \\frac{y_f^x}{\\sigma(x_f)}$. \n",
    "\n",
    "Here $y_f^x$ is the the frequency of $y$ in the context $x$. The complete formula to be taken to pandas is then: \n",
    "\n",
    "$p(x|y) = \\frac{x^y}{\\sigma(y)}$ \n",
    "\n",
    "$p(y) = \\frac{\\sigma(y)}{t}$\n"
   ]
  },
  {
   "cell_type": "code",
   "execution_count": 175,
   "id": "8accb17f-f4a1-40ab-b8c1-d8021ea869e6",
   "metadata": {},
   "outputs": [],
   "source": [
    "cond = lambda x, level = 0:(coord.xs(x, level = level)/coord.xs(x, level = level).sum())"
   ]
  },
  {
   "cell_type": "code",
   "execution_count": 176,
   "id": "1518869e-bddf-4d24-b253-ebaac1f8ae08",
   "metadata": {},
   "outputs": [],
   "source": [
    "summation = lambda x, level = 0: coord.xs(x, level = level).sum()"
   ]
  },
  {
   "cell_type": "code",
   "execution_count": 186,
   "id": "7767b910-d1dd-4e61-bcaf-1099c441a5bd",
   "metadata": {},
   "outputs": [
    {
     "data": {
      "text/plain": [
       "freq    4756\n",
       "dtype: int64"
      ]
     },
     "execution_count": 186,
     "metadata": {},
     "output_type": "execute_result"
    }
   ],
   "source": [
    "summation('Hamsun', 0)"
   ]
  },
  {
   "cell_type": "code",
   "execution_count": 193,
   "id": "dc9db37a-244a-4695-80f0-1f888bdde9a4",
   "metadata": {},
   "outputs": [],
   "source": [
    "triples = pd.DataFrame([(x, summation(x, 0)) for x in set(coord.index.get_level_values(level = 0))], columns = ['word', 'as_first'])"
   ]
  },
  {
   "cell_type": "code",
   "execution_count": 194,
   "id": "43c5f1f5-8b4b-43dd-9fc9-1c495ebec871",
   "metadata": {},
   "outputs": [],
   "source": [
    "tuples_second = pd.DataFrame([(x, summation(x, 1)) for x in set(coord.index.get_level_values(level = 1))], columns = ['word', 'as_second'])"
   ]
  },
  {
   "cell_type": "code",
   "execution_count": 222,
   "id": "caffed5f-25fb-49c0-a2ea-59b8315785b0",
   "metadata": {},
   "outputs": [],
   "source": [
    "tuples_second = tuples_second.set_index('word')"
   ]
  },
  {
   "cell_type": "code",
   "execution_count": 224,
   "id": "4518cda0-cceb-4741-9ddb-6008f69947d2",
   "metadata": {},
   "outputs": [],
   "source": [
    "tuples_second = tuples_second.fillna(0).applymap(int)"
   ]
  },
  {
   "cell_type": "code",
   "execution_count": 237,
   "id": "4265354c-45f0-48f0-b2dc-22932a0b6bc1",
   "metadata": {},
   "outputs": [
    {
     "data": {
      "text/plain": [
       "as_second    2809784\n",
       "Name: i, dtype: int64"
      ]
     },
     "execution_count": 237,
     "metadata": {},
     "output_type": "execute_result"
    }
   ],
   "source": [
    "tuples_second.loc['i']"
   ]
  },
  {
   "cell_type": "code",
   "execution_count": 227,
   "id": "0e8da2ab-1878-480e-a9c4-9a05336993fd",
   "metadata": {},
   "outputs": [
    {
     "data": {
      "text/plain": [
       "as_second    231478939\n",
       "dtype: int64"
      ]
     },
     "execution_count": 227,
     "metadata": {},
     "output_type": "execute_result"
    }
   ],
   "source": [
    "totals_second = tuples_second.sum()\n",
    "totals_second"
   ]
  },
  {
   "cell_type": "code",
   "execution_count": 225,
   "id": "81cc517e-5189-4aee-92d8-2379bde939a8",
   "metadata": {},
   "outputs": [],
   "source": [
    "#tuples_second.to_csv(\"second_position_frequencies.csv\", header = True)"
   ]
  },
  {
   "cell_type": "markdown",
   "id": "674a5faf-eb21-48f6-958f-b9d81112a323",
   "metadata": {},
   "source": [
    "## Fix values and such"
   ]
  },
  {
   "cell_type": "code",
   "execution_count": 200,
   "id": "51dc936e-7fc2-4d52-85c8-278e81d61eea",
   "metadata": {},
   "outputs": [],
   "source": [
    "galaxy_freqs = pd.concat([triples.set_index('word'), tuples_second.set_index('word')], axis = 1)"
   ]
  },
  {
   "cell_type": "code",
   "execution_count": 208,
   "id": "d6bb4cce-b2a4-4427-be88-fc0409b1b353",
   "metadata": {},
   "outputs": [],
   "source": [
    "galaxy_freqs = galaxy_freqs.fillna(0).applymap(int)"
   ]
  },
  {
   "cell_type": "code",
   "execution_count": 220,
   "id": "5f5f94fc-41db-4ffc-bffd-429565d73629",
   "metadata": {},
   "outputs": [],
   "source": [
    "#galaxy_freqs.to_csv('galaxy_frequencies.csv', header = True)"
   ]
  },
  {
   "cell_type": "markdown",
   "id": "404c015d-a3e4-48ed-8bf3-26e24e324930",
   "metadata": {},
   "source": [
    "## Compute pmi"
   ]
  },
  {
   "cell_type": "code",
   "execution_count": 219,
   "id": "20698ce0-d80b-4702-8377-584685c74a08",
   "metadata": {},
   "outputs": [
    {
     "data": {
      "text/plain": [
       "as_first     17552\n",
       "as_second    42501\n",
       "Name: spiser, dtype: int64"
      ]
     },
     "execution_count": 219,
     "metadata": {},
     "output_type": "execute_result"
    }
   ],
   "source": [
    "galaxy_freqs.loc['spiser']"
   ]
  },
  {
   "cell_type": "code",
   "execution_count": 230,
   "id": "3e495a1d-6e81-4717-aeb1-5590b21a1689",
   "metadata": {},
   "outputs": [
    {
     "data": {
      "text/plain": [
       "as_second    42501\n",
       "Name: spiser, dtype: int64"
      ]
     },
     "execution_count": 230,
     "metadata": {},
     "output_type": "execute_result"
    }
   ],
   "source": [
    "tuples_second.loc['spiser']"
   ]
  },
  {
   "cell_type": "code",
   "execution_count": 250,
   "id": "4b0fc80c-7a21-48a1-a6f4-0fa204a498ed",
   "metadata": {},
   "outputs": [],
   "source": [
    "pmi_series = lambda x:((coord.loc[x]/coord.loc[x].sum())['freq']/(tuples_second.loc[x]/totals_second)['as_second'])"
   ]
  },
  {
   "cell_type": "code",
   "execution_count": 258,
   "id": "1ed8562c-9b5f-4ae2-8c7b-5fcf2e905d81",
   "metadata": {},
   "outputs": [
    {
     "data": {
      "text/plain": [
       "second\n",
       "velferd           127.171211\n",
       "trivsel           115.190268\n",
       "miljø              98.109004\n",
       "sykdom             86.909951\n",
       "sikkerhet          80.498462\n",
       "velvære            63.357053\n",
       "livskvalitet       54.684102\n",
       "omsorg             53.661632\n",
       "sosial             53.445109\n",
       "utvikling          40.983004\n",
       "utdanning          35.666160\n",
       "arbeidsmiljø       33.573103\n",
       "sosiale            30.493664\n",
       "førlighet          16.094881\n",
       "for                15.204730\n",
       "hygiene            15.192701\n",
       "sosialsektoren     14.723568\n",
       "sunnhet            14.482987\n",
       "livsstil           14.182260\n",
       "liv                13.701098\n",
       "samfunn            13.508633\n",
       "sosialfag          13.159790\n",
       "et                 13.063558\n",
       "en                 11.138909\n",
       "forebygge          10.862240\n",
       "rus                10.272816\n",
       "lykke               9.948032\n",
       "ernæring            9.430782\n",
       "levekår             9.142085\n",
       "krefter             7.746714\n",
       "Name: freq, dtype: float64"
      ]
     },
     "execution_count": 258,
     "metadata": {},
     "output_type": "execute_result"
    }
   ],
   "source": [
    "pmi_series('helse').sort_values(ascending = False).head(30)"
   ]
  },
  {
   "cell_type": "code",
   "execution_count": 259,
   "id": "352e8d60-b2e7-4d70-8386-f4463004b6d8",
   "metadata": {},
   "outputs": [
    {
     "data": {
      "text/plain": [
       "second\n",
       "velferd           10572\n",
       "trivsel            9576\n",
       "miljø              8156\n",
       "sykdom             7225\n",
       "sikkerhet          6692\n",
       "velvære            5267\n",
       "livskvalitet       4546\n",
       "omsorg             4461\n",
       "sosial             4443\n",
       "utvikling          3407\n",
       "utdanning          2965\n",
       "arbeidsmiljø       2791\n",
       "sosiale            2535\n",
       "førlighet          1338\n",
       "for                1264\n",
       "hygiene            1263\n",
       "sosialsektoren     1224\n",
       "sunnhet            1204\n",
       "livsstil           1179\n",
       "liv                1139\n",
       "samfunn            1123\n",
       "sosialfag          1094\n",
       "et                 1086\n",
       "en                  926\n",
       "forebygge           903\n",
       "rus                 854\n",
       "lykke               827\n",
       "ernæring            784\n",
       "levekår             760\n",
       "krefter             644\n",
       "Name: freq, dtype: int64"
      ]
     },
     "execution_count": 259,
     "metadata": {},
     "output_type": "execute_result"
    }
   ],
   "source": [
    "coord.loc['helse']['freq'].sort_values(ascending = False).head(30)"
   ]
  },
  {
   "cell_type": "code",
   "execution_count": 173,
   "id": "8f83f5c9-3b48-4eca-9f5f-fbc725297372",
   "metadata": {},
   "outputs": [
    {
     "data": {
      "text/html": [
       "<div>\n",
       "<style scoped>\n",
       "    .dataframe tbody tr th:only-of-type {\n",
       "        vertical-align: middle;\n",
       "    }\n",
       "\n",
       "    .dataframe tbody tr th {\n",
       "        vertical-align: top;\n",
       "    }\n",
       "\n",
       "    .dataframe thead th {\n",
       "        text-align: right;\n",
       "    }\n",
       "</style>\n",
       "<table border=\"1\" class=\"dataframe\">\n",
       "  <thead>\n",
       "    <tr style=\"text-align: right;\">\n",
       "      <th></th>\n",
       "      <th>freq</th>\n",
       "    </tr>\n",
       "    <tr>\n",
       "      <th>second</th>\n",
       "      <th></th>\n",
       "    </tr>\n",
       "  </thead>\n",
       "  <tbody>\n",
       "    <tr>\n",
       "      <th>spiser</th>\n",
       "      <td>0.081893</td>\n",
       "    </tr>\n",
       "    <tr>\n",
       "      <th>drikker</th>\n",
       "      <td>0.081610</td>\n",
       "    </tr>\n",
       "    <tr>\n",
       "      <th>røyker</th>\n",
       "      <td>0.056673</td>\n",
       "    </tr>\n",
       "    <tr>\n",
       "      <th>er</th>\n",
       "      <td>0.041513</td>\n",
       "    </tr>\n",
       "    <tr>\n",
       "      <th>spiller</th>\n",
       "      <td>0.038254</td>\n",
       "    </tr>\n",
       "    <tr>\n",
       "      <th>snakker</th>\n",
       "      <td>0.028903</td>\n",
       "    </tr>\n",
       "    <tr>\n",
       "      <th>sover</th>\n",
       "      <td>0.028762</td>\n",
       "    </tr>\n",
       "    <tr>\n",
       "      <th>prater</th>\n",
       "      <td>0.028053</td>\n",
       "    </tr>\n",
       "    <tr>\n",
       "      <th>danser</th>\n",
       "      <td>0.027345</td>\n",
       "    </tr>\n",
       "    <tr>\n",
       "      <th>har</th>\n",
       "      <td>0.024795</td>\n",
       "    </tr>\n",
       "    <tr>\n",
       "      <th>blir</th>\n",
       "      <td>0.020261</td>\n",
       "    </tr>\n",
       "    <tr>\n",
       "      <th>ikke</th>\n",
       "      <td>0.019127</td>\n",
       "    </tr>\n",
       "    <tr>\n",
       "      <th>ser</th>\n",
       "      <td>0.018135</td>\n",
       "    </tr>\n",
       "    <tr>\n",
       "      <th>ler</th>\n",
       "      <td>0.016435</td>\n",
       "    </tr>\n",
       "    <tr>\n",
       "      <th>slåss</th>\n",
       "      <td>0.014735</td>\n",
       "    </tr>\n",
       "    <tr>\n",
       "      <th>hvor</th>\n",
       "      <td>0.013460</td>\n",
       "    </tr>\n",
       "    <tr>\n",
       "      <th>fester</th>\n",
       "      <td>0.013177</td>\n",
       "    </tr>\n",
       "    <tr>\n",
       "      <th>synger</th>\n",
       "      <td>0.012751</td>\n",
       "    </tr>\n",
       "    <tr>\n",
       "      <th>de</th>\n",
       "      <td>0.012326</td>\n",
       "    </tr>\n",
       "    <tr>\n",
       "      <th>setter</th>\n",
       "      <td>0.012326</td>\n",
       "    </tr>\n",
       "  </tbody>\n",
       "</table>\n",
       "</div>"
      ],
      "text/plain": [
       "             freq\n",
       "second           \n",
       "spiser   0.081893\n",
       "drikker  0.081610\n",
       "røyker   0.056673\n",
       "er       0.041513\n",
       "spiller  0.038254\n",
       "snakker  0.028903\n",
       "sover    0.028762\n",
       "prater   0.028053\n",
       "danser   0.027345\n",
       "har      0.024795\n",
       "blir     0.020261\n",
       "ikke     0.019127\n",
       "ser      0.018135\n",
       "ler      0.016435\n",
       "slåss    0.014735\n",
       "hvor     0.013460\n",
       "fester   0.013177\n",
       "synger   0.012751\n",
       "de       0.012326\n",
       "setter   0.012326"
      ]
     },
     "execution_count": 173,
     "metadata": {},
     "output_type": "execute_result"
    }
   ],
   "source": [
    "cond2('drikker').sort_values(by = 'freq', ascending = False).head(20)"
   ]
  },
  {
   "cell_type": "code",
   "execution_count": 174,
   "id": "3a036df4-6582-446a-b03d-a83121d010c7",
   "metadata": {},
   "outputs": [
    {
     "data": {
      "text/html": [
       "<div>\n",
       "<style scoped>\n",
       "    .dataframe tbody tr th:only-of-type {\n",
       "        vertical-align: middle;\n",
       "    }\n",
       "\n",
       "    .dataframe tbody tr th {\n",
       "        vertical-align: top;\n",
       "    }\n",
       "\n",
       "    .dataframe thead th {\n",
       "        text-align: right;\n",
       "    }\n",
       "</style>\n",
       "<table border=\"1\" class=\"dataframe\">\n",
       "  <thead>\n",
       "    <tr style=\"text-align: right;\">\n",
       "      <th></th>\n",
       "      <th>freq</th>\n",
       "    </tr>\n",
       "    <tr>\n",
       "      <th>second</th>\n",
       "      <th></th>\n",
       "    </tr>\n",
       "  </thead>\n",
       "  <tbody>\n",
       "    <tr>\n",
       "      <th>spiser</th>\n",
       "      <td>578</td>\n",
       "    </tr>\n",
       "    <tr>\n",
       "      <th>drikker</th>\n",
       "      <td>576</td>\n",
       "    </tr>\n",
       "    <tr>\n",
       "      <th>røyker</th>\n",
       "      <td>400</td>\n",
       "    </tr>\n",
       "    <tr>\n",
       "      <th>er</th>\n",
       "      <td>293</td>\n",
       "    </tr>\n",
       "    <tr>\n",
       "      <th>spiller</th>\n",
       "      <td>270</td>\n",
       "    </tr>\n",
       "    <tr>\n",
       "      <th>snakker</th>\n",
       "      <td>204</td>\n",
       "    </tr>\n",
       "    <tr>\n",
       "      <th>sover</th>\n",
       "      <td>203</td>\n",
       "    </tr>\n",
       "    <tr>\n",
       "      <th>prater</th>\n",
       "      <td>198</td>\n",
       "    </tr>\n",
       "    <tr>\n",
       "      <th>danser</th>\n",
       "      <td>193</td>\n",
       "    </tr>\n",
       "    <tr>\n",
       "      <th>har</th>\n",
       "      <td>175</td>\n",
       "    </tr>\n",
       "    <tr>\n",
       "      <th>blir</th>\n",
       "      <td>143</td>\n",
       "    </tr>\n",
       "    <tr>\n",
       "      <th>ikke</th>\n",
       "      <td>135</td>\n",
       "    </tr>\n",
       "    <tr>\n",
       "      <th>ser</th>\n",
       "      <td>128</td>\n",
       "    </tr>\n",
       "    <tr>\n",
       "      <th>ler</th>\n",
       "      <td>116</td>\n",
       "    </tr>\n",
       "    <tr>\n",
       "      <th>slåss</th>\n",
       "      <td>104</td>\n",
       "    </tr>\n",
       "    <tr>\n",
       "      <th>hvor</th>\n",
       "      <td>95</td>\n",
       "    </tr>\n",
       "    <tr>\n",
       "      <th>fester</th>\n",
       "      <td>93</td>\n",
       "    </tr>\n",
       "    <tr>\n",
       "      <th>synger</th>\n",
       "      <td>90</td>\n",
       "    </tr>\n",
       "    <tr>\n",
       "      <th>de</th>\n",
       "      <td>87</td>\n",
       "    </tr>\n",
       "    <tr>\n",
       "      <th>setter</th>\n",
       "      <td>87</td>\n",
       "    </tr>\n",
       "  </tbody>\n",
       "</table>\n",
       "</div>"
      ],
      "text/plain": [
       "         freq\n",
       "second       \n",
       "spiser    578\n",
       "drikker   576\n",
       "røyker    400\n",
       "er        293\n",
       "spiller   270\n",
       "snakker   204\n",
       "sover     203\n",
       "prater    198\n",
       "danser    193\n",
       "har       175\n",
       "blir      143\n",
       "ikke      135\n",
       "ser       128\n",
       "ler       116\n",
       "slåss     104\n",
       "hvor       95\n",
       "fester     93\n",
       "synger     90\n",
       "de         87\n",
       "setter     87"
      ]
     },
     "execution_count": 174,
     "metadata": {},
     "output_type": "execute_result"
    }
   ],
   "source": [
    "coord.xs('drikker', level = 0).sort_values(by = \"freq\", ascending = False).head(20)"
   ]
  },
  {
   "cell_type": "code",
   "execution_count": 147,
   "id": "27b62b57-c0e0-488a-9cbe-b72fa715f3f9",
   "metadata": {},
   "outputs": [
    {
     "data": {
      "text/html": [
       "<div>\n",
       "<style scoped>\n",
       "    .dataframe tbody tr th:only-of-type {\n",
       "        vertical-align: middle;\n",
       "    }\n",
       "\n",
       "    .dataframe tbody tr th {\n",
       "        vertical-align: top;\n",
       "    }\n",
       "\n",
       "    .dataframe thead th {\n",
       "        text-align: right;\n",
       "    }\n",
       "</style>\n",
       "<table border=\"1\" class=\"dataframe\">\n",
       "  <thead>\n",
       "    <tr style=\"text-align: right;\">\n",
       "      <th></th>\n",
       "      <th>freq</th>\n",
       "    </tr>\n",
       "    <tr>\n",
       "      <th>second</th>\n",
       "      <th></th>\n",
       "    </tr>\n",
       "  </thead>\n",
       "  <tbody>\n",
       "    <tr>\n",
       "      <th>ost</th>\n",
       "      <td>15519</td>\n",
       "    </tr>\n",
       "    <tr>\n",
       "      <th>sukker</th>\n",
       "      <td>10167</td>\n",
       "    </tr>\n",
       "    <tr>\n",
       "      <th>mel</th>\n",
       "      <td>4132</td>\n",
       "    </tr>\n",
       "    <tr>\n",
       "      <th>brød</th>\n",
       "      <td>2679</td>\n",
       "    </tr>\n",
       "    <tr>\n",
       "      <th>olje</th>\n",
       "      <td>2647</td>\n",
       "    </tr>\n",
       "    <tr>\n",
       "      <th>margarin</th>\n",
       "      <td>2272</td>\n",
       "    </tr>\n",
       "    <tr>\n",
       "      <th>egg</th>\n",
       "      <td>1903</td>\n",
       "    </tr>\n",
       "    <tr>\n",
       "      <th>en</th>\n",
       "      <td>1750</td>\n",
       "    </tr>\n",
       "    <tr>\n",
       "      <th>melk</th>\n",
       "      <td>1497</td>\n",
       "    </tr>\n",
       "    <tr>\n",
       "      <th>fløte</th>\n",
       "      <td>1462</td>\n",
       "    </tr>\n",
       "    <tr>\n",
       "      <th>syltetøy</th>\n",
       "      <td>1345</td>\n",
       "    </tr>\n",
       "    <tr>\n",
       "      <th>pålegg</th>\n",
       "      <td>1205</td>\n",
       "    </tr>\n",
       "    <tr>\n",
       "      <th>salt</th>\n",
       "      <td>1063</td>\n",
       "    </tr>\n",
       "    <tr>\n",
       "      <th>litt</th>\n",
       "      <td>1035</td>\n",
       "    </tr>\n",
       "    <tr>\n",
       "      <th>honning</th>\n",
       "      <td>917</td>\n",
       "    </tr>\n",
       "    <tr>\n",
       "      <th>andre</th>\n",
       "      <td>842</td>\n",
       "    </tr>\n",
       "    <tr>\n",
       "      <th>sirup</th>\n",
       "      <td>841</td>\n",
       "    </tr>\n",
       "    <tr>\n",
       "      <th>kjøtt</th>\n",
       "      <td>835</td>\n",
       "    </tr>\n",
       "    <tr>\n",
       "      <th>et</th>\n",
       "      <td>823</td>\n",
       "    </tr>\n",
       "    <tr>\n",
       "      <th>mjøl</th>\n",
       "      <td>806</td>\n",
       "    </tr>\n",
       "    <tr>\n",
       "      <th>melis</th>\n",
       "      <td>743</td>\n",
       "    </tr>\n",
       "    <tr>\n",
       "      <th>marmelade</th>\n",
       "      <td>654</td>\n",
       "    </tr>\n",
       "    <tr>\n",
       "      <th>flatbrød</th>\n",
       "      <td>565</td>\n",
       "    </tr>\n",
       "    <tr>\n",
       "      <th>legg</th>\n",
       "      <td>560</td>\n",
       "    </tr>\n",
       "    <tr>\n",
       "      <th>poteter</th>\n",
       "      <td>529</td>\n",
       "    </tr>\n",
       "    <tr>\n",
       "      <th>flesk</th>\n",
       "      <td>514</td>\n",
       "    </tr>\n",
       "    <tr>\n",
       "      <th>la</th>\n",
       "      <td>511</td>\n",
       "    </tr>\n",
       "    <tr>\n",
       "      <th>rør</th>\n",
       "      <td>510</td>\n",
       "    </tr>\n",
       "    <tr>\n",
       "      <th>olivenolje</th>\n",
       "      <td>482</td>\n",
       "    </tr>\n",
       "    <tr>\n",
       "      <th>dryss</th>\n",
       "      <td>479</td>\n",
       "    </tr>\n",
       "    <tr>\n",
       "      <th>smak</th>\n",
       "      <td>459</td>\n",
       "    </tr>\n",
       "    <tr>\n",
       "      <th>ha</th>\n",
       "      <td>459</td>\n",
       "    </tr>\n",
       "    <tr>\n",
       "      <th>hvetemel</th>\n",
       "      <td>450</td>\n",
       "    </tr>\n",
       "    <tr>\n",
       "      <th>stek</th>\n",
       "      <td>417</td>\n",
       "    </tr>\n",
       "    <tr>\n",
       "      <th>sjokolade</th>\n",
       "      <td>404</td>\n",
       "    </tr>\n",
       "    <tr>\n",
       "      <th>ingen</th>\n",
       "      <td>399</td>\n",
       "    </tr>\n",
       "    <tr>\n",
       "      <th>tilsett</th>\n",
       "      <td>391</td>\n",
       "    </tr>\n",
       "    <tr>\n",
       "      <th>brunost</th>\n",
       "      <td>389</td>\n",
       "    </tr>\n",
       "    <tr>\n",
       "      <th>garneres</th>\n",
       "      <td>384</td>\n",
       "    </tr>\n",
       "    <tr>\n",
       "      <th>vann</th>\n",
       "      <td>380</td>\n",
       "    </tr>\n",
       "    <tr>\n",
       "      <th>fisk</th>\n",
       "      <td>372</td>\n",
       "    </tr>\n",
       "    <tr>\n",
       "      <th>krydder</th>\n",
       "      <td>366</td>\n",
       "    </tr>\n",
       "    <tr>\n",
       "      <th>rømme</th>\n",
       "      <td>358</td>\n",
       "    </tr>\n",
       "    <tr>\n",
       "      <th>kaffe</th>\n",
       "      <td>348</td>\n",
       "    </tr>\n",
       "    <tr>\n",
       "      <th>mjølk</th>\n",
       "      <td>344</td>\n",
       "    </tr>\n",
       "    <tr>\n",
       "      <th>persille</th>\n",
       "      <td>337</td>\n",
       "    </tr>\n",
       "    <tr>\n",
       "      <th>i</th>\n",
       "      <td>336</td>\n",
       "    </tr>\n",
       "    <tr>\n",
       "      <th>korn</th>\n",
       "      <td>333</td>\n",
       "    </tr>\n",
       "    <tr>\n",
       "      <th>ikke</th>\n",
       "      <td>319</td>\n",
       "    </tr>\n",
       "    <tr>\n",
       "      <th>revet</th>\n",
       "      <td>301</td>\n",
       "    </tr>\n",
       "  </tbody>\n",
       "</table>\n",
       "</div>"
      ],
      "text/plain": [
       "             freq\n",
       "second           \n",
       "ost         15519\n",
       "sukker      10167\n",
       "mel          4132\n",
       "brød         2679\n",
       "olje         2647\n",
       "margarin     2272\n",
       "egg          1903\n",
       "en           1750\n",
       "melk         1497\n",
       "fløte        1462\n",
       "syltetøy     1345\n",
       "pålegg       1205\n",
       "salt         1063\n",
       "litt         1035\n",
       "honning       917\n",
       "andre         842\n",
       "sirup         841\n",
       "kjøtt         835\n",
       "et            823\n",
       "mjøl          806\n",
       "melis         743\n",
       "marmelade     654\n",
       "flatbrød      565\n",
       "legg          560\n",
       "poteter       529\n",
       "flesk         514\n",
       "la            511\n",
       "rør           510\n",
       "olivenolje    482\n",
       "dryss         479\n",
       "smak          459\n",
       "ha            459\n",
       "hvetemel      450\n",
       "stek          417\n",
       "sjokolade     404\n",
       "ingen         399\n",
       "tilsett       391\n",
       "brunost       389\n",
       "garneres      384\n",
       "vann          380\n",
       "fisk          372\n",
       "krydder       366\n",
       "rømme         358\n",
       "kaffe         348\n",
       "mjølk         344\n",
       "persille      337\n",
       "i             336\n",
       "korn          333\n",
       "ikke          319\n",
       "revet         301"
      ]
     },
     "execution_count": 147,
     "metadata": {},
     "output_type": "execute_result"
    }
   ],
   "source": [
    "coord.loc[\"smør\"].sort_values(by = 'freq', ascending = False).head(50)"
   ]
  },
  {
   "cell_type": "code",
   "execution_count": null,
   "id": "40444a38-f062-4f11-a74b-3891d14ed9a5",
   "metadata": {},
   "outputs": [],
   "source": [
    "def make_graph(word):\n",
    "    seconds = coord.loc[\""
   ]
  }
 ],
 "metadata": {
  "kernelspec": {
   "display_name": "Python 3 (ipykernel)",
   "language": "python",
   "name": "python3"
  },
  "language_info": {
   "codemirror_mode": {
    "name": "ipython",
    "version": 3
   },
   "file_extension": ".py",
   "mimetype": "text/x-python",
   "name": "python",
   "nbconvert_exporter": "python",
   "pygments_lexer": "ipython3",
   "version": "3.8.12"
  }
 },
 "nbformat": 4,
 "nbformat_minor": 5
}
