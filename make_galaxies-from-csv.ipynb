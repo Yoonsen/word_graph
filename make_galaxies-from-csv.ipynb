{
 "cells": [
  {
   "cell_type": "markdown",
   "id": "50d67f5b-9c56-4815-8f63-daae7d6716c9",
   "metadata": {
    "tags": []
   },
   "source": [
    "# Make word graphs from csv\n",
    "\n",
    "From a csv file with at least three columns, two with words and one with a frequency. "
   ]
  },
  {
   "cell_type": "code",
   "execution_count": 1,
   "id": "f65b1c2b-c737-4ff7-8ac5-1c17d227b57f",
   "metadata": {},
   "outputs": [],
   "source": [
    "import sqlite3\n",
    "import pandas as pd"
   ]
  },
  {
   "cell_type": "markdown",
   "id": "295befcb-5cdc-4241-8f80-433abf212252",
   "metadata": {
    "tags": []
   },
   "source": [
    "# Functions "
   ]
  },
  {
   "cell_type": "code",
   "execution_count": 2,
   "id": "1d3411f6-2fd3-4a75-9a05-a9d1c4e3a11b",
   "metadata": {},
   "outputs": [],
   "source": [
    "def query(db, sql, param=()):\n",
    "    \"\"\" Query a sqlitedatabase with sql and param\"\"\"\n",
    "    with sqlite3.connect(db) as con:\n",
    "        cur = con.cursor()\n",
    "        cur.execute(sql, param)\n",
    "    return cur.fetchall()"
   ]
  },
  {
   "cell_type": "code",
   "execution_count": 3,
   "id": "2a393c57-46bc-4ad5-b8d8-80843ee6d07b",
   "metadata": {},
   "outputs": [],
   "source": [
    "def create_database_from_df(db, df):\n",
    "    \"\"\"\n",
    "        db is the name of an empty database, df is a dataframe with columns named first, second, freq\n",
    "        A table named ngram is created with two secondary tables\n",
    "    \"\"\"\n",
    "    print('creating database from dataframe')\n",
    "    with sqlite3.connect(db) as con:\n",
    "        df[['first','second','freq']].to_sql('ngram', con)\n",
    "    print('indexing main table')\n",
    "    query(db, \"create index '_ft_' on ngram (first, second)\")\n",
    "    query(db, \"create index '_tf_' on ngram (second, first)\")\n",
    "    query(db, \"create table firstfreq (first varchar, freq int)\")\n",
    "    query(db, \"create table secondfreq (second varchar, freq int)\")\n",
    "    query(db, \"insert into firstfreq select first, sum(freq) from ngram group by first\")\n",
    "    query(db, \"insert into secondfreq select second, sum(freq) from ngram group by second\")\n",
    "    print('indexing secondary tables')\n",
    "    query(db, \"create index _ff_ on firstfreq (first, freq)\")\n",
    "    query(db, \"create index _ftf_ on secondfreq (second, freq)\")"
   ]
  },
  {
   "cell_type": "code",
   "execution_count": 4,
   "id": "e796e377-f2c8-4229-97da-9fb6471ac250",
   "metadata": {},
   "outputs": [],
   "source": [
    "def make_word_graph(db):\n",
    "    print('create graph of word pairs')\n",
    "    query(db, \"create table word_graph (first varchar, second varchar, freq int, pmi float)\")\n",
    "    query(db, \"insert into word_graph select  a.first, a.second, sum(a.freq) as f, pow(a.freq,2)*1.0/ (f.freq * t.freq) as pmi from ngram as a, firstfreq as f, secondfreq as t where a.first = f.first and a.second = t.second group by a.first, a.second\")\n",
    "    print('indexing graph')\n",
    "    query(db, \"create index _gftp_ on word_graph (first, pmi)\")\n",
    "    query(db, \"create index _gtfp_ on word_graph (second, pmi)\")"
   ]
  },
  {
   "cell_type": "code",
   "execution_count": 5,
   "id": "b8b2e9c0-8ed7-4c27-908b-bf1af445800d",
   "metadata": {},
   "outputs": [],
   "source": [
    "def check_graph_first(x, top = 20):\n",
    "    return query(word_pair_database, \"select * from word_graph where first = ? order by pmi desc limit ?\", (x, top))\n",
    "def check_graph_second(x, top = 20):\n",
    "    return query(word_pair_database, \"select * from word_graph where second = ? order by pmi desc limit ?\", (x, top))"
   ]
  },
  {
   "cell_type": "markdown",
   "id": "ad36d9d6-1bd6-448c-8e85-66d0696f05b3",
   "metadata": {},
   "source": [
    "## File to store word graph - change name as appropriate"
   ]
  },
  {
   "cell_type": "code",
   "execution_count": 25,
   "id": "94654b32-e9ae-4aeb-af06-4fc9e62dc011",
   "metadata": {},
   "outputs": [],
   "source": [
    "word_pair_database = \"news_word_pairs.db\""
   ]
  },
  {
   "cell_type": "markdown",
   "id": "3e9071ef-7846-4b12-ae7e-6bff83fd5d7b",
   "metadata": {},
   "source": [
    "## CSV-file structure\n",
    "\n",
    "\n",
    "Specify name of file, and a mapping from the columns to \"first\", \"second\" and \"freq\". The graph is built as weighted graph with edges  `(first, second)`, where frequency and compututations based on frequencies are weights. \n",
    "\n",
    "If the CSV file has for example five columns, and the `first` element is in 2nd position with the `second` in 4th, and frequency is in 5th, just indicate the mapping with a schematic description of the columns so that `first`, `second` and `freq` are matched up with the appropriate columns, for example like this: \n",
    "\n",
    "```\n",
    "['p0', 'first', 'p2', 'second', 'freq']\n",
    "```\n",
    "The names for unused columns are arbitrary. Only the words in the `first` and `second` columns with the weights in `freq` are used in constructing the graph. \n",
    "\n",
    "The code will aggregate the columns, summing up the extraneous columns. \n",
    "\n",
    "$$\\textrm{columns} = \\sum_{x,y \\in \\textrm{p0}, \\textrm{p2} } {\\textrm{columns}(\\textrm{freq})_{[\\textrm{p0}, \\textrm{first}, \\textrm{p2}, \\textrm{second} ]}}$$\n",
    "\n",
    "The aggregation produces a table with aggregated frequencies with only three columns:\n",
    "\n",
    "```\n",
    "['first', 'second', 'freq']\n",
    "```\n"
   ]
  },
  {
   "cell_type": "markdown",
   "id": "32fde3cb-c0aa-4c63-94cd-068f0165b455",
   "metadata": {},
   "source": [
    "### Specify CSV data  "
   ]
  },
  {
   "cell_type": "markdown",
   "id": "452f496e-b257-44cf-9e9b-5171de94012b",
   "metadata": {},
   "source": [
    "csv_data = {\n",
    "    'file':\"../../ngram_2021_coordination/coord-bok.csv\",\n",
    "    'columns': ['lang', 'first', 'coord', 'second','freq']\n",
    "}"
   ]
  },
  {
   "cell_type": "code",
   "execution_count": 26,
   "id": "3b3052b6-5fae-434c-9a19-547fd0a1d589",
   "metadata": {},
   "outputs": [],
   "source": [
    "csv_data = {\n",
    "    'file':\"../../ngram_2021_coordination/coord-avis.csv\",\n",
    "    'columns': [ 'first', 'coord', 'second','freq']\n",
    "}"
   ]
  },
  {
   "cell_type": "markdown",
   "id": "a17f95f7-aae1-434d-94c8-8d027d07325d",
   "metadata": {},
   "source": [
    "# Read CSV and aggregate the frequencies\n",
    "\n",
    "If csv has a header, set `header = 0`, and if there is a separate (initial) index column, set `index_col = 0`. If there are errors, just add cells and inspect the variable `data`."
   ]
  },
  {
   "cell_type": "code",
   "execution_count": 31,
   "id": "02431f65-3d10-4da6-b25e-d3d50025606c",
   "metadata": {},
   "outputs": [],
   "source": [
    "data = pd.read_csv(csv_data['file'], header = None, index_col = None)"
   ]
  },
  {
   "cell_type": "code",
   "execution_count": 32,
   "id": "ee400bc4-502a-4998-8a86-9715d8e42826",
   "metadata": {},
   "outputs": [
    {
     "data": {
      "text/html": [
       "<div>\n",
       "<style scoped>\n",
       "    .dataframe tbody tr th:only-of-type {\n",
       "        vertical-align: middle;\n",
       "    }\n",
       "\n",
       "    .dataframe tbody tr th {\n",
       "        vertical-align: top;\n",
       "    }\n",
       "\n",
       "    .dataframe thead th {\n",
       "        text-align: right;\n",
       "    }\n",
       "</style>\n",
       "<table border=\"1\" class=\"dataframe\">\n",
       "  <thead>\n",
       "    <tr style=\"text-align: right;\">\n",
       "      <th></th>\n",
       "      <th>0</th>\n",
       "      <th>1</th>\n",
       "      <th>2</th>\n",
       "      <th>3</th>\n",
       "    </tr>\n",
       "  </thead>\n",
       "  <tbody>\n",
       "    <tr>\n",
       "      <th>0</th>\n",
       "      <td>!</td>\n",
       "      <td>og</td>\n",
       "      <td>08.55</td>\n",
       "      <td>5</td>\n",
       "    </tr>\n",
       "    <tr>\n",
       "      <th>1</th>\n",
       "      <td>!</td>\n",
       "      <td>og</td>\n",
       "      <td>160</td>\n",
       "      <td>5</td>\n",
       "    </tr>\n",
       "    <tr>\n",
       "      <th>2</th>\n",
       "      <td>!</td>\n",
       "      <td>og</td>\n",
       "      <td>19.00</td>\n",
       "      <td>5</td>\n",
       "    </tr>\n",
       "    <tr>\n",
       "      <th>3</th>\n",
       "      <td>!</td>\n",
       "      <td>og</td>\n",
       "      <td>A-laget</td>\n",
       "      <td>5</td>\n",
       "    </tr>\n",
       "    <tr>\n",
       "      <th>4</th>\n",
       "      <td>!</td>\n",
       "      <td>og</td>\n",
       "      <td>Andre</td>\n",
       "      <td>5</td>\n",
       "    </tr>\n",
       "    <tr>\n",
       "      <th>...</th>\n",
       "      <td>...</td>\n",
       "      <td>...</td>\n",
       "      <td>...</td>\n",
       "      <td>...</td>\n",
       "    </tr>\n",
       "    <tr>\n",
       "      <th>12547198</th>\n",
       "      <td>,</td>\n",
       "      <td>og</td>\n",
       "      <td>de</td>\n",
       "      <td>6290096</td>\n",
       "    </tr>\n",
       "    <tr>\n",
       "      <th>12547199</th>\n",
       "      <td>,</td>\n",
       "      <td>og</td>\n",
       "      <td>vi</td>\n",
       "      <td>6518966</td>\n",
       "    </tr>\n",
       "    <tr>\n",
       "      <th>12547200</th>\n",
       "      <td>,</td>\n",
       "      <td>og</td>\n",
       "      <td>i</td>\n",
       "      <td>6773165</td>\n",
       "    </tr>\n",
       "    <tr>\n",
       "      <th>12547201</th>\n",
       "      <td>,</td>\n",
       "      <td>og</td>\n",
       "      <td>at</td>\n",
       "      <td>8850710</td>\n",
       "    </tr>\n",
       "    <tr>\n",
       "      <th>12547202</th>\n",
       "      <td>,</td>\n",
       "      <td>og</td>\n",
       "      <td>det</td>\n",
       "      <td>25715695</td>\n",
       "    </tr>\n",
       "  </tbody>\n",
       "</table>\n",
       "<p>12547203 rows × 4 columns</p>\n",
       "</div>"
      ],
      "text/plain": [
       "          0   1        2         3\n",
       "0         !  og    08.55         5\n",
       "1         !  og      160         5\n",
       "2         !  og    19.00         5\n",
       "3         !  og  A-laget         5\n",
       "4         !  og    Andre         5\n",
       "...      ..  ..      ...       ...\n",
       "12547198  ,  og       de   6290096\n",
       "12547199  ,  og       vi   6518966\n",
       "12547200  ,  og        i   6773165\n",
       "12547201  ,  og       at   8850710\n",
       "12547202  ,  og      det  25715695\n",
       "\n",
       "[12547203 rows x 4 columns]"
      ]
     },
     "execution_count": 32,
     "metadata": {},
     "output_type": "execute_result"
    }
   ],
   "source": [
    "data"
   ]
  },
  {
   "cell_type": "code",
   "execution_count": 33,
   "id": "905112ee-f7cb-4725-b8aa-4d82674bfcfc",
   "metadata": {},
   "outputs": [],
   "source": [
    "data.columns = csv_data['columns']"
   ]
  },
  {
   "cell_type": "code",
   "execution_count": 34,
   "id": "16beb9c9-75d8-44d3-a28e-903760686ad5",
   "metadata": {},
   "outputs": [],
   "source": [
    "if len(data.columns) > 3:\n",
    "    data = data.groupby(['first', 'second']).sum('freq').reset_index()"
   ]
  },
  {
   "cell_type": "markdown",
   "id": "a09f1823-45c5-4a80-9869-f1ea8f395275",
   "metadata": {},
   "source": [
    "# Create basic word pairs\n",
    "\n",
    "Store the dataframe in an sqlite-database with frequencies together with derived frequencies - table is called `ngram`. Words with frequencies from the first and second columns are extracted and added up into separate tables dubbed `firstfreq` and `secondfreq`."
   ]
  },
  {
   "cell_type": "code",
   "execution_count": 35,
   "id": "8cf29871-aaeb-47d3-a645-fc8117dfc882",
   "metadata": {},
   "outputs": [
    {
     "name": "stdout",
     "output_type": "stream",
     "text": [
      "creating database from dataframe\n",
      "indexing main table\n",
      "indexing secondary tables\n"
     ]
    }
   ],
   "source": [
    "create_database_from_df(word_pair_database, data)"
   ]
  },
  {
   "cell_type": "markdown",
   "id": "9dbe6414-727f-41e0-b748-a88b847f9c93",
   "metadata": {},
   "source": [
    "# Make table of word pairs\n",
    "\n",
    "The table of word pairs is computed using the ngram-table and named `word_graph`. Indexed and ready to use.\n",
    "\n",
    "The columns of the `word_graph` table are `first, second, freq, pmi` where freq contains the original frequencies, and pmi is the computed association value, using the following formula:\n",
    "\n",
    "$$\\frac{\\textrm{freq}(x,y)^2}{\\textrm{freq}(x)*\\textrm{freq}(y)}$$\n",
    "\n",
    "The frequency is squared to give the cooccurence frequency a higher weight. The marginals `freq(x)` are aggregated from the word positions. For each word $w$ it is associated with two frequencies, one frequency from the occurence in the first column, and one from the second column.\n",
    "\n",
    "The actual computation can be changed in the definition of the function `make_word_graph`. Locate the part of the expression `pow(a.freq,2)*1.0/ (f.freq * t.freq)` in one of the sql-queries, and substitute it with a preferred computation."
   ]
  },
  {
   "cell_type": "code",
   "execution_count": 36,
   "id": "ba99a28b-390c-4966-ae89-5cfa98c414e7",
   "metadata": {},
   "outputs": [
    {
     "name": "stdout",
     "output_type": "stream",
     "text": [
      "create graph of word pairs\n",
      "indexing graph\n"
     ]
    }
   ],
   "source": [
    "make_word_graph(word_pair_database)"
   ]
  },
  {
   "cell_type": "markdown",
   "id": "8c41f8b2-8c42-4169-8800-fcb83adcf06b",
   "metadata": {},
   "source": [
    "# Querying word graphs"
   ]
  },
  {
   "cell_type": "code",
   "execution_count": 37,
   "id": "16f3dbfa-b892-4f3e-9077-301313443ddf",
   "metadata": {},
   "outputs": [
    {
     "data": {
      "text/plain": [
       "[('Ibsen', 'Bjørnson', 9292, 0.09418937783791119),\n",
       " ('Ibsen', 'Hamsun', 2508, 0.020234145931904427),\n",
       " ('Ibsen', 'Strindberg', 1413, 0.008817534030960994),\n",
       " ('Ibsen', 'Bjornson', 489, 0.006173023560988957),\n",
       " ('Ibsen', 'Shakespeare', 709, 0.003965907308327859),\n",
       " ('Ibsen', 'Bjørnstjerne', 1160, 0.0025674813806368575),\n",
       " ('Ibsen', 'skandinavismen', 159, 0.0017095133698876127),\n",
       " ('Ibsen', 'Bjsrnson', 134, 0.0014743776387262414),\n",
       " ('Ibsen', 'Bjørnsons', 562, 0.0014472037908524673),\n",
       " ('Ibsen', 'Grieg', 1166, 0.0014451388035318631),\n",
       " ('Ibsen', 'Munch', 565, 0.0014288586230320971),\n",
       " ('Ibsen', 'Kielland', 524, 0.0014035709526468451),\n",
       " ('Ibsen', 'moderniteten', 57, 0.0009620150617981421),\n",
       " ('Ibsen', 'Sigval', 163, 0.0008087536925698582),\n",
       " ('Ibsen', 'Egner', 144, 0.0006720224287485595),\n",
       " ('Ibsen', 'Wenche', 1501, 0.0005798994271320755),\n",
       " ('Ibsen', 'Hamsundagene', 141, 0.0004961952003615553),\n",
       " ('Ibsen', 'Holberg', 213, 0.00048396040709125043),\n",
       " ('Ibsen', 'Hamsun-prisen', 32, 0.0004548030578399342),\n",
       " ('Ibsen', 'Hamsun-dagene', 80, 0.0003711300917091451)]"
      ]
     },
     "execution_count": 37,
     "metadata": {},
     "output_type": "execute_result"
    }
   ],
   "source": [
    "check_graph_first('Ibsen')"
   ]
  },
  {
   "cell_type": "code",
   "execution_count": 38,
   "id": "42c1519d-005c-4b4e-a0af-cf06379b05a2",
   "metadata": {},
   "outputs": [
    {
     "data": {
      "text/plain": [
       "[('Bjørnson', 'Ibsen', 6021, 0.06442220940913733),\n",
       " ('Shakespeare', 'Ibsen', 842, 0.008708065816422318),\n",
       " ('Bjornson', 'Ibsen', 399, 0.008259061046113493),\n",
       " ('Bjsrnson', 'Ibsen', 167, 0.003645904485381543),\n",
       " ('Hamsun', 'Ibsen', 697, 0.0020866237781364707),\n",
       " ('Holberg', 'Ibsen', 445, 0.001616635066665736),\n",
       " ('Strindberg', 'Ibsen', 330, 0.0015834916703830494),\n",
       " ('Munch', 'Ibsen', 635, 0.0011622409371508467),\n",
       " ('digtning', 'Ibsen', 77, 0.0009411843143355594),\n",
       " ('Bjprnson', 'Ibsen', 10, 0.0006889424733034792),\n",
       " ('Vjsrnson', 'Ibsen', 20, 0.0006408767193520736),\n",
       " ('Grimstadtid', 'Ibsen', 7, 0.00048225973131243543),\n",
       " ('Wergeland', 'Ibsen', 345, 0.0004600874032707547),\n",
       " ('Vjornson', 'Ibsen', 15, 0.0004189515040358995),\n",
       " ('Bjørnsom', 'Ibsen', 6, 0.0004133654839820875),\n",
       " ('Tsjekhov', 'Ibsen', 25, 0.00037770968931111795),\n",
       " ('Hebbel', 'Ibsen', 5, 0.0003444712366517396),\n",
       " ('Bjomson', 'Ibsen', 5, 0.0003444712366517396),\n",
       " ('Grieg', 'Ibsen', 435, 0.0002572166989145292),\n",
       " ('Kierkegaard', 'Ibsen', 71, 0.0002559291826030095)]"
      ]
     },
     "execution_count": 38,
     "metadata": {},
     "output_type": "execute_result"
    }
   ],
   "source": [
    "check_graph_second('Ibsen')"
   ]
  },
  {
   "cell_type": "code",
   "execution_count": null,
   "id": "6c9378a8-6826-4677-b805-706c2bdf3263",
   "metadata": {},
   "outputs": [],
   "source": []
  }
 ],
 "metadata": {
  "kernelspec": {
   "display_name": "Python 3 (ipykernel)",
   "language": "python",
   "name": "python3"
  },
  "language_info": {
   "codemirror_mode": {
    "name": "ipython",
    "version": 3
   },
   "file_extension": ".py",
   "mimetype": "text/x-python",
   "name": "python",
   "nbconvert_exporter": "python",
   "pygments_lexer": "ipython3",
   "version": "3.8.12"
  }
 },
 "nbformat": 4,
 "nbformat_minor": 5
}
