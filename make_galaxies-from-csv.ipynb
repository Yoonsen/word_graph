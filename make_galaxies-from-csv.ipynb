{
 "cells": [
  {
   "cell_type": "markdown",
   "id": "50d67f5b-9c56-4815-8f63-daae7d6716c9",
   "metadata": {},
   "source": [
    "# Make word graphs from csv\n",
    "\n",
    "From a csv file with at least three columns, two with words and one with a frequency. "
   ]
  },
  {
   "cell_type": "code",
   "execution_count": 7,
   "id": "f65b1c2b-c737-4ff7-8ac5-1c17d227b57f",
   "metadata": {},
   "outputs": [],
   "source": [
    "import sqlite3\n",
    "import pandas as pd"
   ]
  },
  {
   "cell_type": "markdown",
   "id": "295befcb-5cdc-4241-8f80-433abf212252",
   "metadata": {},
   "source": [
    "# Functions "
   ]
  },
  {
   "cell_type": "code",
   "execution_count": 3,
   "id": "1d3411f6-2fd3-4a75-9a05-a9d1c4e3a11b",
   "metadata": {},
   "outputs": [],
   "source": [
    "def query(db, sql, param=()):\n",
    "    \"\"\" Query a sqlitedatabase with sql and param\"\"\"\n",
    "    with sqlite3.connect(db) as con:\n",
    "        cur = con.cursor()\n",
    "        cur.execute(sql, param)\n",
    "    return cur.fetchall()"
   ]
  },
  {
   "cell_type": "code",
   "execution_count": 29,
   "id": "2a393c57-46bc-4ad5-b8d8-80843ee6d07b",
   "metadata": {},
   "outputs": [],
   "source": [
    "def create_database_from_df(db, df):\n",
    "    \"\"\"\n",
    "        db is the name of an empty database, df is a dataframe with columns named first, second, freq\n",
    "        A table named ngram is created with two secondary tables\n",
    "    \"\"\"\n",
    "    print('creating database from dataframe')\n",
    "    with sqlite3.connect(db) as con:\n",
    "        df[['first','second','freq']].to_sql('ngram', con)\n",
    "    print('indexing main table')\n",
    "    query(db, \"create index '_ft_' on ngram (first, second)\")\n",
    "    query(db, \"create index '_tf_' on ngram (second, first)\")\n",
    "    query(db, \"create table firstfreq (first varchar, freq int)\")\n",
    "    query(db, \"create table secondfreq (second varchar, freq int)\")\n",
    "    query(db, \"insert into firstfreq select first, sum(freq) from ngram group by first\")\n",
    "    query(db, \"insert into secondfreq select second, sum(freq) from ngram group by second\")\n",
    "    print('indexing secondary tables')\n",
    "    query(db, \"create index _ff_ on firstfreq (first, freq)\")\n",
    "    query(db, \"create index _ftf_ on secondfreq (second, freq)\")"
   ]
  },
  {
   "cell_type": "code",
   "execution_count": 56,
   "id": "e796e377-f2c8-4229-97da-9fb6471ac250",
   "metadata": {},
   "outputs": [],
   "source": [
    "def make_word_graph(db):\n",
    "    print('create graph')\n",
    "    query(db, \"create table word_graph (first varchar, second varchar, freq int, pmi float)\")\n",
    "    query(db, \"insert into word_graph select  a.first, a.second, sum(a.freq) as f, pow(a.freq,2)*1.0/ (f.freq * t.freq) as pmi from ngram as a, firstfreq as f, secondfreq as t where a.first = f.first and a.second = t.second group by a.first, a.second\")\n",
    "    print('indexing graph')\n",
    "    query(db, \"create index _gftp_ on word_graph (first, pmi)\")\n",
    "    query(db, \"create index _gtfp_ on word_graph (second, pmi)\")"
   ]
  },
  {
   "cell_type": "code",
   "execution_count": null,
   "id": "ccc151a2-d60f-4d16-bd71-75bd7d759981",
   "metadata": {},
   "outputs": [],
   "source": []
  },
  {
   "cell_type": "markdown",
   "id": "ad36d9d6-1bd6-448c-8e85-66d0696f05b3",
   "metadata": {},
   "source": [
    "## File to store word graph - change name as appropriate"
   ]
  },
  {
   "cell_type": "code",
   "execution_count": 15,
   "id": "94654b32-e9ae-4aeb-af06-4fc9e62dc011",
   "metadata": {},
   "outputs": [],
   "source": [
    "galakse = \"galakse.db\""
   ]
  },
  {
   "cell_type": "markdown",
   "id": "3e9071ef-7846-4b12-ae7e-6bff83fd5d7b",
   "metadata": {},
   "source": [
    "## CSV-file structure\n",
    "\n",
    "Specify name of file, and a mapping from the columns to \"first\", \"second\" and \"freq\". The graph is built of from these elements. If the CSV file has five columns and the first element is in 2nd position and the second is in 4th, with frequency in 5th, just indicate the mapping with a schematic description of the columns so that first,second and freq are matched up with the appropriate columns, for example like this: \n",
    "```\n",
    "['p0', 'first', 'p2', 'second', 'freq']\n",
    "```\n",
    "The names for unused columns are arbitrary. This will effectively select the words and the weights from the csv. The code will aggregate first, second and freq if the input CSV file has more than three columns"
   ]
  },
  {
   "cell_type": "markdown",
   "id": "32fde3cb-c0aa-4c63-94cd-068f0165b455",
   "metadata": {},
   "source": [
    "### specify CSV"
   ]
  },
  {
   "cell_type": "code",
   "execution_count": 36,
   "id": "c7b08ac5-d68a-4024-9301-07165eaa8aa2",
   "metadata": {},
   "outputs": [],
   "source": [
    "csv_data = {\n",
    "    'file':\"../../ngram_2021_coordination/coord-bok.csv\",\n",
    "    'columns': ['lang', 'first', 'coord', 'second','freq']\n",
    "}"
   ]
  },
  {
   "cell_type": "markdown",
   "id": "a17f95f7-aae1-434d-94c8-8d027d07325d",
   "metadata": {},
   "source": [
    "# Read CSV and aggregate the frequencies\n",
    "\n",
    "If csv has header set `header = 0`, and if there is a separate (initial) index column, set `index_col = 0`"
   ]
  },
  {
   "cell_type": "code",
   "execution_count": 37,
   "id": "02431f65-3d10-4da6-b25e-d3d50025606c",
   "metadata": {},
   "outputs": [],
   "source": [
    "data = pd.read_csv(csv_data['file'], header = None, index_col = None)"
   ]
  },
  {
   "cell_type": "code",
   "execution_count": 38,
   "id": "e160c168-ddef-4833-8bff-b7af78ba7538",
   "metadata": {},
   "outputs": [
    {
     "data": {
      "text/plain": [
       "Int64Index([0, 1, 2, 3, 4], dtype='int64')"
      ]
     },
     "execution_count": 38,
     "metadata": {},
     "output_type": "execute_result"
    }
   ],
   "source": [
    "data.columns"
   ]
  },
  {
   "cell_type": "code",
   "execution_count": 39,
   "id": "904c2597-14bf-495c-83b6-d05e538fec71",
   "metadata": {},
   "outputs": [],
   "source": [
    "data.columns = csv_data['columns']"
   ]
  },
  {
   "cell_type": "code",
   "execution_count": 41,
   "id": "16beb9c9-75d8-44d3-a28e-903760686ad5",
   "metadata": {},
   "outputs": [],
   "source": [
    "if len(data.columns) > 3:\n",
    "    data = data.groupby(['first', 'second']).sum('freq').reset_index()"
   ]
  },
  {
   "cell_type": "code",
   "execution_count": null,
   "id": "10f1328e-fd66-4c5f-871e-3e461af82f03",
   "metadata": {},
   "outputs": [],
   "source": []
  },
  {
   "cell_type": "markdown",
   "id": "a09f1823-45c5-4a80-9869-f1ea8f395275",
   "metadata": {},
   "source": [
    "# Create basic word pairs\n",
    "\n",
    "Store the dataframe in an sqlite-database with frequencies together with derived frequencies - table is called `ngram`. Words with frequencies from the first and second columns are extracted and added up into separate tables dubbed `firstfreq` and `secondfreq`."
   ]
  },
  {
   "cell_type": "code",
   "execution_count": 43,
   "id": "8cf29871-aaeb-47d3-a645-fc8117dfc882",
   "metadata": {},
   "outputs": [
    {
     "name": "stdout",
     "output_type": "stream",
     "text": [
      "creating database from dataframe\n",
      "indexing main table\n",
      "indexing secondary tables\n"
     ]
    }
   ],
   "source": [
    "create_database_from_df(galakse, data)"
   ]
  },
  {
   "cell_type": "markdown",
   "id": "9dbe6414-727f-41e0-b748-a88b847f9c93",
   "metadata": {},
   "source": [
    "# Make the galaxy\n",
    "\n",
    "The galaxy table is computed using the ngram-table and named `galaxy`. Indexed and ready to use."
   ]
  },
  {
   "cell_type": "code",
   "execution_count": 54,
   "id": "4290b9cb-9a92-46ac-b5aa-a0b1aaab5f38",
   "metadata": {},
   "outputs": [
    {
     "data": {
      "text/plain": [
       "[]"
      ]
     },
     "execution_count": 54,
     "metadata": {},
     "output_type": "execute_result"
    }
   ],
   "source": [
    "query(galakse, \"drop table galaxy\")"
   ]
  },
  {
   "cell_type": "code",
   "execution_count": 55,
   "id": "ba99a28b-390c-4966-ae89-5cfa98c414e7",
   "metadata": {},
   "outputs": [
    {
     "name": "stdout",
     "output_type": "stream",
     "text": [
      "create galaxies\n",
      "indexing galaxies\n"
     ]
    }
   ],
   "source": [
    "make_galaxy(galakse)"
   ]
  },
  {
   "cell_type": "markdown",
   "id": "8c41f8b2-8c42-4169-8800-fcb83adcf06b",
   "metadata": {},
   "source": [
    "# Querying word graphs"
   ]
  },
  {
   "cell_type": "code",
   "execution_count": null,
   "id": "e2ed5d26-57a3-47d5-acef-2cbd224fafdb",
   "metadata": {},
   "outputs": [],
   "source": []
  }
 ],
 "metadata": {
  "kernelspec": {
   "display_name": "Python 3 (ipykernel)",
   "language": "python",
   "name": "python3"
  },
  "language_info": {
   "codemirror_mode": {
    "name": "ipython",
    "version": 3
   },
   "file_extension": ".py",
   "mimetype": "text/x-python",
   "name": "python",
   "nbconvert_exporter": "python",
   "pygments_lexer": "ipython3",
   "version": "3.8.12"
  }
 },
 "nbformat": 4,
 "nbformat_minor": 5
}
